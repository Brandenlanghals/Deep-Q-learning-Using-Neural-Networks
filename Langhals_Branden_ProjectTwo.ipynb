{
 "cells": [
  {
   "cell_type": "markdown",
   "metadata": {},
   "source": [
    "# Treasure Hunt Game Notebook\n",
    "\n",
    "## Read and Review Your Starter Code\n",
    "The theme of this project is a popular treasure hunt game in which the player needs to find the treasure before the pirate does. While you will not be developing the entire game, you will write the part of the game that represents the intelligent agent, which is a pirate in this case. The pirate will try to find the optimal path to the treasure using deep Q-learning. \n",
    "\n",
    "You have been provided with two Python classes and this notebook to help you with this assignment. The first class, TreasureMaze.py, represents the environment, which includes a maze object defined as a matrix. The second class, GameExperience.py, stores the episodes – that is, all the states that come in between the initial state and the terminal state. This is later used by the agent for learning by experience, called \"exploration\". This notebook shows how to play a game. Your task is to complete the deep Q-learning implementation for which a skeleton implementation has been provided. The code blocks you will need to complete has #TODO as a header.\n",
    "\n",
    "First, read and review the next few code and instruction blocks to understand the code that you have been given."
   ]
  },
  {
   "cell_type": "code",
   "execution_count": 1,
   "metadata": {},
   "outputs": [
    {
     "name": "stderr",
     "output_type": "stream",
     "text": [
      "Using TensorFlow backend.\n"
     ]
    }
   ],
   "source": [
    "from __future__ import print_function\n",
    "import os, sys, time, datetime, json, random\n",
    "import numpy as np\n",
    "from keras.models import Sequential\n",
    "from keras.layers.core import Dense, Activation\n",
    "from keras.optimizers import SGD , Adam, RMSprop\n",
    "from keras.layers.advanced_activations import PReLU\n",
    "import matplotlib.pyplot as plt\n",
    "from TreasureMaze import TreasureMaze\n",
    "from GameExperience import GameExperience\n",
    "%matplotlib inline"
   ]
  },
  {
   "cell_type": "markdown",
   "metadata": {},
   "source": [
    "The following code block contains an 8x8 matrix that will be used as a maze object:"
   ]
  },
  {
   "cell_type": "code",
   "execution_count": 2,
   "metadata": {},
   "outputs": [],
   "source": [
    "maze = np.array([\n",
    "    [ 1.,  0.,  1.,  1.,  1.,  1.,  1.,  1.],\n",
    "    [ 1.,  0.,  1.,  1.,  1.,  0.,  1.,  1.],\n",
    "    [ 1.,  1.,  1.,  1.,  0.,  1.,  0.,  1.],\n",
    "    [ 1.,  1.,  1.,  0.,  1.,  1.,  1.,  1.],\n",
    "    [ 1.,  1.,  0.,  1.,  1.,  1.,  1.,  1.],\n",
    "    [ 1.,  1.,  1.,  0.,  1.,  0.,  0.,  0.],\n",
    "    [ 1.,  1.,  1.,  0.,  1.,  1.,  1.,  1.],\n",
    "    [ 1.,  1.,  1.,  1.,  0.,  1.,  1.,  1.]\n",
    "])"
   ]
  },
  {
   "cell_type": "markdown",
   "metadata": {},
   "source": [
    "This helper function allows a visual representation of the maze object:"
   ]
  },
  {
   "cell_type": "code",
   "execution_count": 3,
   "metadata": {},
   "outputs": [],
   "source": [
    "def show(qmaze):\n",
    "    plt.grid('on')\n",
    "    nrows, ncols = qmaze.maze.shape\n",
    "    ax = plt.gca()\n",
    "    ax.set_xticks(np.arange(0.5, nrows, 1))\n",
    "    ax.set_yticks(np.arange(0.5, ncols, 1))\n",
    "    ax.set_xticklabels([])\n",
    "    ax.set_yticklabels([])\n",
    "    canvas = np.copy(qmaze.maze)\n",
    "    for row,col in qmaze.visited:\n",
    "        canvas[row,col] = 0.6\n",
    "    pirate_row, pirate_col, _ = qmaze.state\n",
    "    canvas[pirate_row, pirate_col] = 0.3   # pirate cell\n",
    "    canvas[nrows-1, ncols-1] = 0.9 # treasure cell\n",
    "    img = plt.imshow(canvas, interpolation='none', cmap='gray')\n",
    "    return img"
   ]
  },
  {
   "cell_type": "markdown",
   "metadata": {},
   "source": [
    "The pirate agent can move in four directions: left, right, up, and down. \n",
    "\n",
    "While the agent primarily learns by experience through exploitation, often, the agent can choose to explore the environment to find previously undiscovered paths. This is called \"exploration\" and is defined by epsilon. This value is typically a lower value such as 0.1, which means for every ten attempts, the agent will attempt to learn by experience nine times and will randomly explore a new path one time. You are encouraged to try various values for the exploration factor and see how the algorithm performs."
   ]
  },
  {
   "cell_type": "code",
   "execution_count": 4,
   "metadata": {},
   "outputs": [],
   "source": [
    "LEFT = 0\n",
    "UP = 1\n",
    "RIGHT = 2\n",
    "DOWN = 3\n",
    "\n",
    "\n",
    "# Exploration factor\n",
    "epsilon = 0.1\n",
    "\n",
    "# Actions dictionary\n",
    "actions_dict = {\n",
    "    LEFT: 'left',\n",
    "    UP: 'up',\n",
    "    RIGHT: 'right',\n",
    "    DOWN: 'down',\n",
    "}\n",
    "\n",
    "num_actions = len(actions_dict)\n"
   ]
  },
  {
   "cell_type": "markdown",
   "metadata": {},
   "source": [
    "The sample code block and output below show creating a maze object and performing one action (DOWN), which returns the reward. The resulting updated environment is visualized."
   ]
  },
  {
   "cell_type": "code",
   "execution_count": 5,
   "metadata": {},
   "outputs": [
    {
     "name": "stdout",
     "output_type": "stream",
     "text": [
      "reward= -0.04\n"
     ]
    },
    {
     "data": {
      "text/plain": [
       "<matplotlib.image.AxesImage at 0x261671bb4c8>"
      ]
     },
     "execution_count": 5,
     "metadata": {},
     "output_type": "execute_result"
    },
    {
     "data": {
      "image/png": "[encoded data removed]",
      "text/plain": [
       "<Figure size 432x288 with 1 Axes>"
      ]
     },
     "metadata": {
      "needs_background": "light"
     },
     "output_type": "display_data"
    }
   ],
   "source": [
    "qmaze = TreasureMaze(maze)\n",
    "canvas, reward, game_over = qmaze.act(DOWN)\n",
    "print(\"reward=\", reward)\n",
    "show(qmaze)"
   ]
  },
  {
   "cell_type": "markdown",
   "metadata": {},
   "source": [
    "This function simulates a full game based on the provided trained model. The other parameters include the TreasureMaze object and the starting position of the pirate."
   ]
  },
  {
   "cell_type": "code",
   "execution_count": 6,
   "metadata": {},
   "outputs": [],
   "source": [
    "def play_game(model, qmaze, pirate_cell):\n",
    "    qmaze.reset(pirate_cell)\n",
    "    envstate = qmaze.observe()\n",
    "    while True:\n",
    "        prev_envstate = envstate\n",
    "        # get next action\n",
    "        q = model.predict(prev_envstate)\n",
    "        action = np.argmax(q[0])\n",
    "\n",
    "        # apply action, get rewards and new state\n",
    "        envstate, reward, game_status = qmaze.act(action)\n",
    "        if game_status == 'win':\n",
    "            return True\n",
    "        elif game_status == 'lose':\n",
    "            return False"
   ]
  },
  {
   "cell_type": "markdown",
   "metadata": {},
   "source": [
    "This function helps you to determine whether the pirate can win any game at all. If your maze is not well designed, the pirate may not win any game at all. In this case, your training would not yield any result. The provided maze in this notebook ensures that there is a path to win and you can run this method to check."
   ]
  },
  {
   "cell_type": "code",
   "execution_count": 7,
   "metadata": {},
   "outputs": [],
   "source": [
    "def completion_check(model, qmaze):\n",
    "    for cell in qmaze.free_cells:\n",
    "        if not qmaze.valid_actions(cell):\n",
    "            return False\n",
    "        if not play_game(model, qmaze, cell):\n",
    "            return False\n",
    "    return True"
   ]
  },
  {
   "cell_type": "markdown",
   "metadata": {},
   "source": [
    "The code you have been given in this block will build the neural network model. Review the code and note the number of layers, as well as the activation, optimizer, and loss functions that are used to train the model."
   ]
  },
  {
   "cell_type": "code",
   "execution_count": 8,
   "metadata": {},
   "outputs": [],
   "source": [
    "def build_model(maze):\n",
    "    model = Sequential()\n",
    "    model.add(Dense(maze.size, input_shape=(maze.size,)))\n",
    "    model.add(PReLU())\n",
    "    model.add(Dense(maze.size))\n",
    "    model.add(PReLU())\n",
    "    model.add(Dense(num_actions))\n",
    "    model.compile(optimizer='adam', loss='mse')\n",
    "    return model"
   ]
  },
  {
   "cell_type": "markdown",
   "metadata": {},
   "source": [
    "# #TODO: Complete the Q-Training Algorithm Code Block\n",
    "\n",
    "This is your deep Q-learning implementation. The goal of your deep Q-learning implementation is to find the best possible navigation sequence that results in reaching the treasure cell while maximizing the reward. In your implementation, you need to determine the optimal number of epochs to achieve a 100% win rate.\n",
    "\n",
    "You will need to complete the section starting with #pseudocode. The pseudocode has been included for you."
   ]
  },
  {
   "cell_type": "code",
   "execution_count": 9,
   "metadata": {},
   "outputs": [],
   "source": [
    "def qtrain(model, maze, **opt):\n",
    "\n",
    "    # exploration factor\n",
    "    global epsilon \n",
    "\n",
    "    # number of epochs\n",
    "    n_epoch = opt.get('n_epoch', 15000)\n",
    "\n",
    "    # maximum memory to store episodes\n",
    "    max_memory = opt.get('max_memory', 1000)\n",
    "\n",
    "    # maximum data size for training\n",
    "    data_size = opt.get('data_size', 50)\n",
    "\n",
    "    # start time\n",
    "    start_time = datetime.datetime.now()\n",
    "\n",
    "    # Construct environment/game from numpy array: maze (see above)\n",
    "    qmaze = TreasureMaze(maze)\n",
    "\n",
    "    # Initialize experience replay object\n",
    "    experience = GameExperience(model, max_memory=max_memory)\n",
    "    \n",
    "    win_history = []   # history of win/lose game\n",
    "    hsize = qmaze.maze.size//2   # history window size\n",
    "    win_rate = 0.0\n",
    "    \n",
    " # For each epoch:\n",
    "    for epoch in range(n_epoch):\n",
    "        # Randomly select a free cell as the starting position for the agent (pirate)\n",
    "        agent_cell = random.choice(qmaze.free_cells)\n",
    "        # Reset the maze with the agent set to the above position\n",
    "        qmaze.reset(agent_cell)\n",
    "        # Observe the current environment state\n",
    "        envstate = qmaze.observe()\n",
    "\n",
    "        n_episodes = 0\n",
    "        loss = 0.0\n",
    "\n",
    "        # While state is not game over:\n",
    "        while True:\n",
    "            # Get the previous environment state for experience replay\n",
    "            previous_envstate = envstate\n",
    "\n",
    "            # Choose an action using epsilon-greedy exploration/exploitation\n",
    "            if np.random.rand() < epsilon:\n",
    "                action = np.random.choice(list(actions_dict.keys()))\n",
    "            else:\n",
    "                q_values = model.predict(previous_envstate)\n",
    "                action = np.argmax(q_values[0])\n",
    "\n",
    "            # Apply the selected action to the maze\n",
    "            envstate, reward, game_status = qmaze.act(action)\n",
    "\n",
    "            # Store the episode in the experience replay buffer\n",
    "            episode = [previous_envstate, action, reward, envstate, game_status]\n",
    "            experience.remember(episode)\n",
    "\n",
    "            n_episodes += 1\n",
    "\n",
    "            # Train neural network model and evaluate loss\n",
    "            inputs, targets = experience.get_data(data_size=data_size)\n",
    "            loss += model.train_on_batch(inputs, targets)\n",
    "\n",
    "            # If the game status is \"win,\" break out of the loop\n",
    "            if game_status == \"win\":\n",
    "                break\n",
    "\n",
    "        # Calculate win rate for the current epoch\n",
    "        win_history.append(game_status == \"win\")\n",
    "        win_rate = sum(win_history[-hsize:]) / len(win_history)\n",
    "\n",
    "        # Print the epoch, loss, episodes, win count, and win rate for each epoch\n",
    "        dt = datetime.datetime.now() - start_time\n",
    "        t = format_time(dt.total_seconds())\n",
    "        template = \"Epoch: {:03d}/{:d} | Loss: {:.4f} | Episodes: {:d} | Win count: {:d} | Win rate: {:.3f} | time: {}\"\n",
    "        print(template.format(epoch, n_epoch-1, loss, n_episodes, sum(win_history), win_rate, t))\n",
    "\n",
    "        # We simply check if training has exhausted all free cells and if in all\n",
    "        # cases the agent won.\n",
    "        if win_rate > 0.9:\n",
    "            epsilon = 0.05\n",
    "\n",
    "        if sum(win_history[-hsize:]) == hsize and completion_check(model, qmaze):\n",
    "            print(\"Reached 100%% win rate at epoch: %d\" % (epoch,))\n",
    "            break\n",
    "\n",
    "    # Determine the total time for training\n",
    "    dt = datetime.datetime.now() - start_time\n",
    "    seconds = dt.total_seconds()\n",
    "    t = format_time(seconds)\n",
    "\n",
    "    print(\"n_epoch: %d, max_mem: %d, data: %d, time: %s\" % (epoch, max_memory, data_size, t))\n",
    "    return seconds\n",
    "\n",
    "# This is a small utility for printing readable time strings:\n",
    "def format_time(seconds):\n",
    "    if seconds < 400:\n",
    "        s = float(seconds)\n",
    "        return \"%.1f seconds\" % (s,)\n",
    "    elif seconds < 4000:\n",
    "        m = seconds / 60.0\n",
    "        return \"%.2f minutes\" % (m,)\n",
    "    else:\n",
    "        h = seconds / 3600.0\n",
    "        return \"%.2f hours\" % (h,)\n"
   ]
  },
  {
   "cell_type": "markdown",
   "metadata": {},
   "source": [
    "## Test Your Model\n",
    "\n",
    "Now we will start testing the deep Q-learning implementation. To begin, select **Cell**, then **Run All** from the menu bar. This will run your notebook. As it runs, you should see output begin to appear beneath the next few cells. The code below creates an instance of TreasureMaze."
   ]
  },
  {
   "cell_type": "code",
   "execution_count": 10,
   "metadata": {
    "scrolled": true
   },
   "outputs": [
    {
     "data": {
      "text/plain": [
       "<matplotlib.image.AxesImage at 0x261684f1788>"
      ]
     },
     "execution_count": 10,
     "metadata": {},
     "output_type": "execute_result"
    },
    {
     "data": {
      "image/png": "[encoded data removed]",
      "text/plain": [
       "<Figure size 432x288 with 1 Axes>"
      ]
     },
     "metadata": {
      "needs_background": "light"
     },
     "output_type": "display_data"
    }
   ],
   "source": [
    "qmaze = TreasureMaze(maze)\n",
    "show(qmaze)"
   ]
  },
  {
   "cell_type": "markdown",
   "metadata": {},
   "source": [
    "In the next code block, you will build your model and train it using deep Q-learning. Note: This step takes several hours to fully run."
   ]
  },
  {
   "cell_type": "code",
   "execution_count": 11,
   "metadata": {},
   "outputs": [
    {
     "name": "stdout",
     "output_type": "stream",
     "text": [
      "Epoch: 000/14999 | Loss: 3.8971 | Episodes: 1754 | Win count: 1 | Win rate: 1.000 | time: 142.1 seconds\n",
      "Epoch: 001/14999 | Loss: 4.1994 | Episodes: 8159 | Win count: 2 | Win rate: 1.000 | time: 13.79 minutes\n",
      "Epoch: 002/14999 | Loss: 3.2541 | Episodes: 18262 | Win count: 3 | Win rate: 1.000 | time: 39.60 minutes\n",
      "Epoch: 003/14999 | Loss: 1.1446 | Episodes: 11336 | Win count: 4 | Win rate: 1.000 | time: 55.43 minutes\n",
      "Epoch: 004/14999 | Loss: 0.7880 | Episodes: 5303 | Win count: 5 | Win rate: 1.000 | time: 65.18 minutes\n",
      "Epoch: 005/14999 | Loss: 0.4632 | Episodes: 1693 | Win count: 6 | Win rate: 1.000 | time: 1.14 hours\n",
      "Epoch: 006/14999 | Loss: 0.0002 | Episodes: 2 | Win count: 7 | Win rate: 1.000 | time: 1.14 hours\n",
      "Epoch: 007/14999 | Loss: 0.0001 | Episodes: 2 | Win count: 8 | Win rate: 1.000 | time: 1.14 hours\n",
      "Epoch: 008/14999 | Loss: 0.0458 | Episodes: 115 | Win count: 9 | Win rate: 1.000 | time: 1.14 hours\n",
      "Epoch: 009/14999 | Loss: 0.4766 | Episodes: 866 | Win count: 10 | Win rate: 1.000 | time: 1.17 hours\n",
      "Epoch: 010/14999 | Loss: 0.5706 | Episodes: 4418 | Win count: 11 | Win rate: 1.000 | time: 1.31 hours\n",
      "Epoch: 011/14999 | Loss: 0.2927 | Episodes: 800 | Win count: 12 | Win rate: 1.000 | time: 1.33 hours\n",
      "Epoch: 012/14999 | Loss: 0.0360 | Episodes: 45 | Win count: 13 | Win rate: 1.000 | time: 1.33 hours\n",
      "Epoch: 013/14999 | Loss: 0.0082 | Episodes: 7 | Win count: 14 | Win rate: 1.000 | time: 1.33 hours\n",
      "Epoch: 014/14999 | Loss: 0.0162 | Episodes: 16 | Win count: 15 | Win rate: 1.000 | time: 1.33 hours\n",
      "Epoch: 015/14999 | Loss: 0.5345 | Episodes: 1823 | Win count: 16 | Win rate: 1.000 | time: 1.38 hours\n",
      "Epoch: 016/14999 | Loss: 0.3726 | Episodes: 2679 | Win count: 17 | Win rate: 1.000 | time: 1.44 hours\n",
      "Epoch: 017/14999 | Loss: 0.2622 | Episodes: 1778 | Win count: 18 | Win rate: 1.000 | time: 1.48 hours\n",
      "Epoch: 018/14999 | Loss: 0.0045 | Episodes: 23 | Win count: 19 | Win rate: 1.000 | time: 1.48 hours\n",
      "Epoch: 019/14999 | Loss: 0.0723 | Episodes: 192 | Win count: 20 | Win rate: 1.000 | time: 1.49 hours\n",
      "Epoch: 020/14999 | Loss: 0.0169 | Episodes: 32 | Win count: 21 | Win rate: 1.000 | time: 1.49 hours\n",
      "Epoch: 021/14999 | Loss: 0.0024 | Episodes: 4 | Win count: 22 | Win rate: 1.000 | time: 1.49 hours\n",
      "Epoch: 022/14999 | Loss: 0.3282 | Episodes: 398 | Win count: 23 | Win rate: 1.000 | time: 1.50 hours\n",
      "Epoch: 023/14999 | Loss: 0.6104 | Episodes: 4194 | Win count: 24 | Win rate: 1.000 | time: 1.59 hours\n",
      "Epoch: 024/14999 | Loss: 0.0546 | Episodes: 236 | Win count: 25 | Win rate: 1.000 | time: 1.59 hours\n",
      "Epoch: 025/14999 | Loss: 0.2456 | Episodes: 406 | Win count: 26 | Win rate: 1.000 | time: 1.60 hours\n",
      "Epoch: 026/14999 | Loss: 0.0209 | Episodes: 28 | Win count: 27 | Win rate: 1.000 | time: 1.60 hours\n",
      "Epoch: 027/14999 | Loss: 0.0100 | Episodes: 14 | Win count: 28 | Win rate: 1.000 | time: 1.60 hours\n",
      "Epoch: 028/14999 | Loss: 0.0047 | Episodes: 6 | Win count: 29 | Win rate: 1.000 | time: 1.60 hours\n",
      "Epoch: 029/14999 | Loss: 0.0088 | Episodes: 10 | Win count: 30 | Win rate: 1.000 | time: 1.60 hours\n",
      "Epoch: 030/14999 | Loss: 0.4694 | Episodes: 962 | Win count: 31 | Win rate: 1.000 | time: 1.63 hours\n",
      "Epoch: 031/14999 | Loss: 0.0016 | Episodes: 8 | Win count: 32 | Win rate: 1.000 | time: 1.63 hours\n",
      "Epoch: 032/14999 | Loss: 0.4633 | Episodes: 3231 | Win count: 33 | Win rate: 0.970 | time: 1.69 hours\n",
      "Epoch: 033/14999 | Loss: 0.6281 | Episodes: 3784 | Win count: 34 | Win rate: 0.941 | time: 1.78 hours\n",
      "Epoch: 034/14999 | Loss: 0.0195 | Episodes: 102 | Win count: 35 | Win rate: 0.914 | time: 1.79 hours\n",
      "Epoch: 035/14999 | Loss: 0.0889 | Episodes: 222 | Win count: 36 | Win rate: 0.889 | time: 1.79 hours\n",
      "Epoch: 036/14999 | Loss: 0.3946 | Episodes: 730 | Win count: 37 | Win rate: 0.865 | time: 1.81 hours\n",
      "Epoch: 037/14999 | Loss: 0.0044 | Episodes: 27 | Win count: 38 | Win rate: 0.842 | time: 1.81 hours\n",
      "Epoch: 038/14999 | Loss: 0.1448 | Episodes: 445 | Win count: 39 | Win rate: 0.821 | time: 1.82 hours\n",
      "Epoch: 039/14999 | Loss: 0.1173 | Episodes: 266 | Win count: 40 | Win rate: 0.800 | time: 1.83 hours\n",
      "Epoch: 040/14999 | Loss: 0.0048 | Episodes: 9 | Win count: 41 | Win rate: 0.780 | time: 1.83 hours\n",
      "Epoch: 041/14999 | Loss: 0.0010 | Episodes: 3 | Win count: 42 | Win rate: 0.762 | time: 1.83 hours\n",
      "Epoch: 042/14999 | Loss: 0.0101 | Episodes: 19 | Win count: 43 | Win rate: 0.744 | time: 1.83 hours\n",
      "Epoch: 043/14999 | Loss: 0.0208 | Episodes: 42 | Win count: 44 | Win rate: 0.727 | time: 1.83 hours\n",
      "Epoch: 044/14999 | Loss: 0.0031 | Episodes: 3 | Win count: 45 | Win rate: 0.711 | time: 1.83 hours\n",
      "Epoch: 045/14999 | Loss: 0.0236 | Episodes: 31 | Win count: 46 | Win rate: 0.696 | time: 1.83 hours\n",
      "Epoch: 046/14999 | Loss: 0.0179 | Episodes: 18 | Win count: 47 | Win rate: 0.681 | time: 1.83 hours\n",
      "Epoch: 047/14999 | Loss: 0.0155 | Episodes: 18 | Win count: 48 | Win rate: 0.667 | time: 1.83 hours\n",
      "Epoch: 048/14999 | Loss: 0.0040 | Episodes: 6 | Win count: 49 | Win rate: 0.653 | time: 1.83 hours\n",
      "Epoch: 049/14999 | Loss: 0.0112 | Episodes: 20 | Win count: 50 | Win rate: 0.640 | time: 1.83 hours\n",
      "Epoch: 050/14999 | Loss: 0.0087 | Episodes: 13 | Win count: 51 | Win rate: 0.627 | time: 1.83 hours\n",
      "Epoch: 051/14999 | Loss: 0.0248 | Episodes: 31 | Win count: 52 | Win rate: 0.615 | time: 1.83 hours\n",
      "Epoch: 052/14999 | Loss: 0.0219 | Episodes: 25 | Win count: 53 | Win rate: 0.604 | time: 1.83 hours\n",
      "Epoch: 053/14999 | Loss: 0.0036 | Episodes: 4 | Win count: 54 | Win rate: 0.593 | time: 1.83 hours\n",
      "Epoch: 054/14999 | Loss: 0.0075 | Episodes: 9 | Win count: 55 | Win rate: 0.582 | time: 1.83 hours\n",
      "Epoch: 055/14999 | Loss: 0.0656 | Episodes: 72 | Win count: 56 | Win rate: 0.571 | time: 1.83 hours\n",
      "Epoch: 056/14999 | Loss: 0.0366 | Episodes: 38 | Win count: 57 | Win rate: 0.561 | time: 1.83 hours\n",
      "Epoch: 057/14999 | Loss: 0.0479 | Episodes: 47 | Win count: 58 | Win rate: 0.552 | time: 1.84 hours\n",
      "Epoch: 058/14999 | Loss: 0.0011 | Episodes: 1 | Win count: 59 | Win rate: 0.542 | time: 1.84 hours\n",
      "Epoch: 059/14999 | Loss: 0.0496 | Episodes: 49 | Win count: 60 | Win rate: 0.533 | time: 1.84 hours\n",
      "Epoch: 060/14999 | Loss: 0.0360 | Episodes: 36 | Win count: 61 | Win rate: 0.525 | time: 1.84 hours\n",
      "Epoch: 061/14999 | Loss: 0.0050 | Episodes: 5 | Win count: 62 | Win rate: 0.516 | time: 1.84 hours\n",
      "Epoch: 062/14999 | Loss: 0.0146 | Episodes: 13 | Win count: 63 | Win rate: 0.508 | time: 1.84 hours\n",
      "Epoch: 063/14999 | Loss: 0.0030 | Episodes: 2 | Win count: 64 | Win rate: 0.500 | time: 1.84 hours\n",
      "Epoch: 064/14999 | Loss: 0.0011 | Episodes: 1 | Win count: 65 | Win rate: 0.492 | time: 1.84 hours\n",
      "Epoch: 065/14999 | Loss: 0.0152 | Episodes: 15 | Win count: 66 | Win rate: 0.485 | time: 1.84 hours\n",
      "Epoch: 066/14999 | Loss: 0.0226 | Episodes: 24 | Win count: 67 | Win rate: 0.478 | time: 1.84 hours\n",
      "Epoch: 067/14999 | Loss: 0.0053 | Episodes: 6 | Win count: 68 | Win rate: 0.471 | time: 1.84 hours\n",
      "Epoch: 068/14999 | Loss: 0.0276 | Episodes: 25 | Win count: 69 | Win rate: 0.464 | time: 1.84 hours\n",
      "Epoch: 069/14999 | Loss: 0.0540 | Episodes: 54 | Win count: 70 | Win rate: 0.457 | time: 1.84 hours\n",
      "Epoch: 070/14999 | Loss: 0.0054 | Episodes: 6 | Win count: 71 | Win rate: 0.451 | time: 1.84 hours\n",
      "Epoch: 071/14999 | Loss: 0.0453 | Episodes: 40 | Win count: 72 | Win rate: 0.444 | time: 1.84 hours\n",
      "Epoch: 072/14999 | Loss: 0.0937 | Episodes: 84 | Win count: 73 | Win rate: 0.438 | time: 1.84 hours\n",
      "Epoch: 073/14999 | Loss: 0.0778 | Episodes: 85 | Win count: 74 | Win rate: 0.432 | time: 1.85 hours\n",
      "Epoch: 074/14999 | Loss: 0.0585 | Episodes: 61 | Win count: 75 | Win rate: 0.427 | time: 1.85 hours\n",
      "Epoch: 075/14999 | Loss: 0.0693 | Episodes: 79 | Win count: 76 | Win rate: 0.421 | time: 1.85 hours\n",
      "Epoch: 076/14999 | Loss: 0.0092 | Episodes: 15 | Win count: 77 | Win rate: 0.416 | time: 1.85 hours\n",
      "Epoch: 077/14999 | Loss: 0.0142 | Episodes: 17 | Win count: 78 | Win rate: 0.410 | time: 1.85 hours\n",
      "Epoch: 078/14999 | Loss: 0.0061 | Episodes: 10 | Win count: 79 | Win rate: 0.405 | time: 1.85 hours\n",
      "Epoch: 079/14999 | Loss: 0.0255 | Episodes: 32 | Win count: 80 | Win rate: 0.400 | time: 1.85 hours\n",
      "Epoch: 080/14999 | Loss: 0.0358 | Episodes: 38 | Win count: 81 | Win rate: 0.395 | time: 1.85 hours\n",
      "Epoch: 081/14999 | Loss: 0.0250 | Episodes: 26 | Win count: 82 | Win rate: 0.390 | time: 1.85 hours\n",
      "Epoch: 082/14999 | Loss: 0.0381 | Episodes: 37 | Win count: 83 | Win rate: 0.386 | time: 1.85 hours\n",
      "Epoch: 083/14999 | Loss: 0.0210 | Episodes: 22 | Win count: 84 | Win rate: 0.381 | time: 1.85 hours\n",
      "Epoch: 084/14999 | Loss: 0.0775 | Episodes: 95 | Win count: 85 | Win rate: 0.376 | time: 1.86 hours\n",
      "Epoch: 085/14999 | Loss: 0.0031 | Episodes: 3 | Win count: 86 | Win rate: 0.372 | time: 1.86 hours\n",
      "Epoch: 086/14999 | Loss: 0.0237 | Episodes: 25 | Win count: 87 | Win rate: 0.368 | time: 1.86 hours\n",
      "Epoch: 087/14999 | Loss: 0.0188 | Episodes: 20 | Win count: 88 | Win rate: 0.364 | time: 1.86 hours\n",
      "Epoch: 088/14999 | Loss: 0.0010 | Episodes: 1 | Win count: 89 | Win rate: 0.360 | time: 1.86 hours\n",
      "Epoch: 089/14999 | Loss: 0.0425 | Episodes: 35 | Win count: 90 | Win rate: 0.356 | time: 1.86 hours\n",
      "Epoch: 090/14999 | Loss: 0.0216 | Episodes: 20 | Win count: 91 | Win rate: 0.352 | time: 1.86 hours\n",
      "Epoch: 091/14999 | Loss: 0.0099 | Episodes: 13 | Win count: 92 | Win rate: 0.348 | time: 1.86 hours\n",
      "Epoch: 092/14999 | Loss: 0.0248 | Episodes: 29 | Win count: 93 | Win rate: 0.344 | time: 1.86 hours\n",
      "Epoch: 093/14999 | Loss: 0.0053 | Episodes: 6 | Win count: 94 | Win rate: 0.340 | time: 1.86 hours\n",
      "Epoch: 094/14999 | Loss: 0.0101 | Episodes: 11 | Win count: 95 | Win rate: 0.337 | time: 1.86 hours\n",
      "Epoch: 095/14999 | Loss: 0.0285 | Episodes: 29 | Win count: 96 | Win rate: 0.333 | time: 1.86 hours\n",
      "Epoch: 096/14999 | Loss: 0.0432 | Episodes: 37 | Win count: 97 | Win rate: 0.330 | time: 1.86 hours\n",
      "Epoch: 097/14999 | Loss: 0.0140 | Episodes: 13 | Win count: 98 | Win rate: 0.327 | time: 1.86 hours\n",
      "Epoch: 098/14999 | Loss: 0.1270 | Episodes: 137 | Win count: 99 | Win rate: 0.323 | time: 1.87 hours\n",
      "Epoch: 099/14999 | Loss: 0.0018 | Episodes: 4 | Win count: 100 | Win rate: 0.320 | time: 1.87 hours\n",
      "Epoch: 100/14999 | Loss: 0.0103 | Episodes: 14 | Win count: 101 | Win rate: 0.317 | time: 1.87 hours\n",
      "Epoch: 101/14999 | Loss: 0.0136 | Episodes: 18 | Win count: 102 | Win rate: 0.314 | time: 1.87 hours\n",
      "Epoch: 102/14999 | Loss: 0.0010 | Episodes: 1 | Win count: 103 | Win rate: 0.311 | time: 1.87 hours\n",
      "Epoch: 103/14999 | Loss: 0.0080 | Episodes: 11 | Win count: 104 | Win rate: 0.308 | time: 1.87 hours\n",
      "Epoch: 104/14999 | Loss: 0.0006 | Episodes: 1 | Win count: 105 | Win rate: 0.305 | time: 1.87 hours\n",
      "Epoch: 105/14999 | Loss: 0.0266 | Episodes: 39 | Win count: 106 | Win rate: 0.302 | time: 1.87 hours\n",
      "Epoch: 106/14999 | Loss: 0.0208 | Episodes: 26 | Win count: 107 | Win rate: 0.299 | time: 1.87 hours\n",
      "Epoch: 107/14999 | Loss: 0.0205 | Episodes: 28 | Win count: 108 | Win rate: 0.296 | time: 1.87 hours\n",
      "Epoch: 108/14999 | Loss: 0.0202 | Episodes: 26 | Win count: 109 | Win rate: 0.294 | time: 1.87 hours\n",
      "Epoch: 109/14999 | Loss: 0.0002 | Episodes: 2 | Win count: 110 | Win rate: 0.291 | time: 1.87 hours\n",
      "Epoch: 110/14999 | Loss: 0.0010 | Episodes: 2 | Win count: 111 | Win rate: 0.288 | time: 1.87 hours\n",
      "Epoch: 111/14999 | Loss: 0.0023 | Episodes: 3 | Win count: 112 | Win rate: 0.286 | time: 1.87 hours\n",
      "Epoch: 112/14999 | Loss: 0.0186 | Episodes: 27 | Win count: 113 | Win rate: 0.283 | time: 1.87 hours\n",
      "Epoch: 113/14999 | Loss: 0.0216 | Episodes: 30 | Win count: 114 | Win rate: 0.281 | time: 1.87 hours\n",
      "Epoch: 114/14999 | Loss: 0.0082 | Episodes: 13 | Win count: 115 | Win rate: 0.278 | time: 1.87 hours\n",
      "Epoch: 115/14999 | Loss: 0.0524 | Episodes: 80 | Win count: 116 | Win rate: 0.276 | time: 1.88 hours\n",
      "Epoch: 116/14999 | Loss: 0.0021 | Episodes: 3 | Win count: 117 | Win rate: 0.274 | time: 1.88 hours\n",
      "Epoch: 117/14999 | Loss: 0.0047 | Episodes: 7 | Win count: 118 | Win rate: 0.271 | time: 1.88 hours\n",
      "Epoch: 118/14999 | Loss: 0.0223 | Episodes: 36 | Win count: 119 | Win rate: 0.269 | time: 1.88 hours\n",
      "Epoch: 119/14999 | Loss: 0.0047 | Episodes: 7 | Win count: 120 | Win rate: 0.267 | time: 1.88 hours\n",
      "Epoch: 120/14999 | Loss: 0.0016 | Episodes: 4 | Win count: 121 | Win rate: 0.264 | time: 1.88 hours\n",
      "Epoch: 121/14999 | Loss: 0.0065 | Episodes: 13 | Win count: 122 | Win rate: 0.262 | time: 1.88 hours\n",
      "Epoch: 122/14999 | Loss: 0.0152 | Episodes: 22 | Win count: 123 | Win rate: 0.260 | time: 1.88 hours\n",
      "Epoch: 123/14999 | Loss: 0.0011 | Episodes: 1 | Win count: 124 | Win rate: 0.258 | time: 1.88 hours\n",
      "Epoch: 124/14999 | Loss: 0.0285 | Episodes: 36 | Win count: 125 | Win rate: 0.256 | time: 1.88 hours\n",
      "Epoch: 125/14999 | Loss: 0.0128 | Episodes: 23 | Win count: 126 | Win rate: 0.254 | time: 1.88 hours\n",
      "Epoch: 126/14999 | Loss: 0.0288 | Episodes: 30 | Win count: 127 | Win rate: 0.252 | time: 1.88 hours\n",
      "Epoch: 127/14999 | Loss: 0.0038 | Episodes: 5 | Win count: 128 | Win rate: 0.250 | time: 1.88 hours\n",
      "Epoch: 128/14999 | Loss: 0.0067 | Episodes: 7 | Win count: 129 | Win rate: 0.248 | time: 1.88 hours\n",
      "Epoch: 129/14999 | Loss: 0.0073 | Episodes: 7 | Win count: 130 | Win rate: 0.246 | time: 1.88 hours\n",
      "Epoch: 130/14999 | Loss: 0.0075 | Episodes: 9 | Win count: 131 | Win rate: 0.244 | time: 1.88 hours\n",
      "Epoch: 131/14999 | Loss: 0.0057 | Episodes: 10 | Win count: 132 | Win rate: 0.242 | time: 1.88 hours\n",
      "Epoch: 132/14999 | Loss: 0.0255 | Episodes: 31 | Win count: 133 | Win rate: 0.241 | time: 1.88 hours\n",
      "Epoch: 133/14999 | Loss: 0.0157 | Episodes: 23 | Win count: 134 | Win rate: 0.239 | time: 1.89 hours\n",
      "Epoch: 134/14999 | Loss: 0.0189 | Episodes: 26 | Win count: 135 | Win rate: 0.237 | time: 1.89 hours\n",
      "Epoch: 135/14999 | Loss: 0.0055 | Episodes: 7 | Win count: 136 | Win rate: 0.235 | time: 1.89 hours\n",
      "Epoch: 136/14999 | Loss: 0.0010 | Episodes: 2 | Win count: 137 | Win rate: 0.234 | time: 1.89 hours\n",
      "Epoch: 137/14999 | Loss: 0.0169 | Episodes: 30 | Win count: 138 | Win rate: 0.232 | time: 1.89 hours\n",
      "Epoch: 138/14999 | Loss: 0.0005 | Episodes: 1 | Win count: 139 | Win rate: 0.230 | time: 1.89 hours\n",
      "Epoch: 139/14999 | Loss: 0.0159 | Episodes: 27 | Win count: 140 | Win rate: 0.229 | time: 1.89 hours\n",
      "Epoch: 140/14999 | Loss: 0.0074 | Episodes: 13 | Win count: 141 | Win rate: 0.227 | time: 1.89 hours\n",
      "Epoch: 141/14999 | Loss: 0.0083 | Episodes: 14 | Win count: 142 | Win rate: 0.225 | time: 1.89 hours\n",
      "Epoch: 142/14999 | Loss: 0.0107 | Episodes: 19 | Win count: 143 | Win rate: 0.224 | time: 1.89 hours\n",
      "Epoch: 143/14999 | Loss: 0.0117 | Episodes: 26 | Win count: 144 | Win rate: 0.222 | time: 1.89 hours\n",
      "Epoch: 144/14999 | Loss: 0.0073 | Episodes: 11 | Win count: 145 | Win rate: 0.221 | time: 1.89 hours\n",
      "Epoch: 145/14999 | Loss: 0.0003 | Episodes: 1 | Win count: 146 | Win rate: 0.219 | time: 1.89 hours\n",
      "Epoch: 146/14999 | Loss: 0.0315 | Episodes: 71 | Win count: 147 | Win rate: 0.218 | time: 1.89 hours\n",
      "Epoch: 147/14999 | Loss: 0.0017 | Episodes: 3 | Win count: 148 | Win rate: 0.216 | time: 1.89 hours\n",
      "Epoch: 148/14999 | Loss: 0.0036 | Episodes: 11 | Win count: 149 | Win rate: 0.215 | time: 1.89 hours\n",
      "Epoch: 149/14999 | Loss: 0.0050 | Episodes: 14 | Win count: 150 | Win rate: 0.213 | time: 1.89 hours\n",
      "Epoch: 150/14999 | Loss: 0.0090 | Episodes: 23 | Win count: 151 | Win rate: 0.212 | time: 1.89 hours\n",
      "Epoch: 151/14999 | Loss: 0.0121 | Episodes: 30 | Win count: 152 | Win rate: 0.211 | time: 1.89 hours\n",
      "Epoch: 152/14999 | Loss: 0.0063 | Episodes: 15 | Win count: 153 | Win rate: 0.209 | time: 1.89 hours\n",
      "Epoch: 153/14999 | Loss: 0.0009 | Episodes: 4 | Win count: 154 | Win rate: 0.208 | time: 1.89 hours\n",
      "Epoch: 154/14999 | Loss: 0.0196 | Episodes: 52 | Win count: 155 | Win rate: 0.206 | time: 1.90 hours\n",
      "Epoch: 155/14999 | Loss: 0.0045 | Episodes: 13 | Win count: 156 | Win rate: 0.205 | time: 1.90 hours\n",
      "Epoch: 156/14999 | Loss: 0.0068 | Episodes: 18 | Win count: 157 | Win rate: 0.204 | time: 1.90 hours\n",
      "Epoch: 157/14999 | Loss: 0.0024 | Episodes: 7 | Win count: 158 | Win rate: 0.203 | time: 1.90 hours\n",
      "Epoch: 158/14999 | Loss: 0.0069 | Episodes: 16 | Win count: 159 | Win rate: 0.201 | time: 1.90 hours\n",
      "Epoch: 159/14999 | Loss: 0.0151 | Episodes: 29 | Win count: 160 | Win rate: 0.200 | time: 1.90 hours\n",
      "Epoch: 160/14999 | Loss: 0.0392 | Episodes: 92 | Win count: 161 | Win rate: 0.199 | time: 1.90 hours\n",
      "Epoch: 161/14999 | Loss: 0.0035 | Episodes: 8 | Win count: 162 | Win rate: 0.198 | time: 1.90 hours\n",
      "Epoch: 162/14999 | Loss: 0.0049 | Episodes: 11 | Win count: 163 | Win rate: 0.196 | time: 1.90 hours\n",
      "Epoch: 163/14999 | Loss: 0.0040 | Episodes: 9 | Win count: 164 | Win rate: 0.195 | time: 1.90 hours\n",
      "Epoch: 164/14999 | Loss: 0.0128 | Episodes: 30 | Win count: 165 | Win rate: 0.194 | time: 1.90 hours\n",
      "Epoch: 165/14999 | Loss: 0.0007 | Episodes: 2 | Win count: 166 | Win rate: 0.193 | time: 1.90 hours\n",
      "Epoch: 166/14999 | Loss: 0.0064 | Episodes: 14 | Win count: 167 | Win rate: 0.192 | time: 1.90 hours\n",
      "Epoch: 167/14999 | Loss: 0.0068 | Episodes: 18 | Win count: 168 | Win rate: 0.190 | time: 1.90 hours\n",
      "Epoch: 168/14999 | Loss: 0.0066 | Episodes: 17 | Win count: 169 | Win rate: 0.189 | time: 1.90 hours\n",
      "Epoch: 169/14999 | Loss: 0.0035 | Episodes: 9 | Win count: 170 | Win rate: 0.188 | time: 1.90 hours\n",
      "Reached 100% win rate at epoch: 169\n",
      "n_epoch: 169, max_mem: 512, data: 32, time: 1.90 hours\n"
     ]
    },
    {
     "data": {
      "text/plain": [
       "6851.714517"
      ]
     },
     "execution_count": 11,
     "metadata": {},
     "output_type": "execute_result"
    }
   ],
   "source": [
    "model = build_model(maze)\n",
    "qtrain(model, maze, epochs=1000, max_memory=8*maze.size, data_size=32)"
   ]
  },
  {
   "cell_type": "markdown",
   "metadata": {},
   "source": [
    "This cell will check to see if the model passes the completion check. Note: This could take several minutes."
   ]
  },
  {
   "cell_type": "code",
   "execution_count": 12,
   "metadata": {},
   "outputs": [
    {
     "data": {
      "text/plain": [
       "<matplotlib.image.AxesImage at 0x2616ee352c8>"
      ]
     },
     "execution_count": 12,
     "metadata": {},
     "output_type": "execute_result"
    },
    {
     "data": {
      "image/png": "[encoded data removed]",
      "text/plain": [
       "<Figure size 432x288 with 1 Axes>"
      ]
     },
     "metadata": {
      "needs_background": "light"
     },
     "output_type": "display_data"
    }
   ],
   "source": [
    "completion_check(model, qmaze)\n",
    "show(qmaze)"
   ]
  },
  {
   "cell_type": "markdown",
   "metadata": {},
   "source": [
    "This cell will test your model for one game. It will start the pirate at the top-left corner and run play_game. The agent should find a path from the starting position to the target (treasure). The treasure is located in the bottom-right corner."
   ]
  },
  {
   "cell_type": "code",
   "execution_count": 13,
   "metadata": {},
   "outputs": [
    {
     "data": {
      "text/plain": [
       "<matplotlib.image.AxesImage at 0x2616ed71f08>"
      ]
     },
     "execution_count": 13,
     "metadata": {},
     "output_type": "execute_result"
    },
    {
     "data": {
      "image/png": "[encoded data removed]",
      "text/plain": [
       "<Figure size 432x288 with 1 Axes>"
      ]
     },
     "metadata": {
      "needs_background": "light"
     },
     "output_type": "display_data"
    }
   ],
   "source": [
    "pirate_start = (0, 0)\n",
    "play_game(model, qmaze, pirate_start)\n",
    "show(qmaze)"
   ]
  },
  {
   "cell_type": "markdown",
   "metadata": {},
   "source": [
    "## Save and Submit Your Work\n",
    "After you have finished creating the code for your notebook, save your work. Make sure that your notebook contains your name in the filename (e.g. Doe_Jane_ProjectTwo.ipynb). This will help your instructor access and grade your work easily. Download a copy of your IPYNB file and submit it to Brightspace. Refer to the Jupyter Notebook in Apporto Tutorial if you need help with these tasks."
   ]
  }
 ],
 "metadata": {
  "kernelspec": {
   "display_name": "Python 3",
   "language": "python",
   "name": "python3"
  },
  "language_info": {
   "codemirror_mode": {
    "name": "ipython",
    "version": 3
   },
   "file_extension": ".py",
   "mimetype": "text/x-python",
   "name": "python",
   "nbconvert_exporter": "python",
   "pygments_lexer": "ipython3",
   "version": "3.7.4"
  }
 },
 "nbformat": 4,
 "nbformat_minor": 2
}
